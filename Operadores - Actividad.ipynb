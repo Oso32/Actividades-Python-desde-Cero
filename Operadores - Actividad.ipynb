{
 "cells": [
  {
   "cell_type": "markdown",
   "metadata": {},
   "source": [
    "## Operadores - Actividad"
   ]
  },
  {
   "cell_type": "markdown",
   "metadata": {},
   "source": [
    "1) Pedir al usuario dos números y mostrar por pantalla la suma de ellos."
   ]
  },
  {
   "cell_type": "code",
   "execution_count": 1,
   "metadata": {},
   "outputs": [
    {
     "name": "stdout",
     "output_type": "stream",
     "text": [
      "4\n"
     ]
    }
   ],
   "source": [
    "num1 = int(input(\"Ingrese numero 1: \"))\n",
    "num2 = int(input(\"Ingrese el numero 2: \"))\n",
    "print(num1 + num2)"
   ]
  },
  {
   "cell_type": "markdown",
   "metadata": {},
   "source": [
    "2) Calcular el perímetro y área de un rectángulo dada su base y su altura (el usuario debe introducir por teclado los dos valores)."
   ]
  },
  {
   "cell_type": "code",
   "execution_count": 2,
   "metadata": {},
   "outputs": [],
   "source": [
    "base = float(input(\"Ingrese la base del rectangulo: \"))\n",
    "altura = float(input(\"Ingrese la altura del rectangulo: \"))\n",
    "perimetro = 2*base + 2*altura\n",
    "area = base*altura"
   ]
  },
  {
   "cell_type": "markdown",
   "metadata": {},
   "source": [
    "3) Calcular el resultado de elevar un número entero a otro número entero (por ejemplo, 5 elevado a 3 = 5^3 = 5*5*5)."
   ]
  },
  {
   "cell_type": "code",
   "execution_count": 3,
   "metadata": {},
   "outputs": [],
   "source": [
    "resultado = 5**3"
   ]
  },
  {
   "cell_type": "markdown",
   "metadata": {},
   "source": [
    "4) Escribe un programa que convierta grados Celsius a grados Fahrenheit utilizando la fórmula: **F = (C * 9/5) + 32**"
   ]
  },
  {
   "cell_type": "code",
   "execution_count": 4,
   "metadata": {},
   "outputs": [],
   "source": [
    "C = float(input(\"Ingrese los grados Celsius: \"))\n",
    "F = (C*9/5)+32"
   ]
  },
  {
   "cell_type": "markdown",
   "metadata": {},
   "source": [
    "5) Pedir al usuario su edad y mostrar por pantalla si es mayor de edad o no. (Mayor de edad >= 18)"
   ]
  },
  {
   "cell_type": "code",
   "execution_count": 5,
   "metadata": {},
   "outputs": [
    {
     "name": "stdout",
     "output_type": "stream",
     "text": [
      "Es mayor de edad.\n"
     ]
    }
   ],
   "source": [
    "edad = int(input(\"Ingrese la edad: \"))\n",
    "if edad>=18:\n",
    "    print(\"Es mayor de edad.\")\n",
    "else:\n",
    "    print(\"No es mayor de edad.\")"
   ]
  },
  {
   "cell_type": "markdown",
   "metadata": {},
   "source": [
    "6) Comprobar si el numero ingresado por el usuario es par o impar."
   ]
  },
  {
   "cell_type": "code",
   "execution_count": 7,
   "metadata": {},
   "outputs": [
    {
     "name": "stdout",
     "output_type": "stream",
     "text": [
      "El numero es par\n"
     ]
    }
   ],
   "source": [
    "numero = int(input(\"Ingrese el numero: \"))\n",
    "if (numero % 2) == 0:\n",
    "    print(\"El numero es par\")\n",
    "else:\n",
    "    print(\"Es impar\")"
   ]
  },
  {
   "cell_type": "markdown",
   "metadata": {},
   "source": [
    "7) Pedir al usuario que ingrese su dirección email y luego mostrar un mensaje indicando si la dirección es válida o no. Una dirección se considerará válida si contiene el símbolo \"@\"."
   ]
  },
  {
   "cell_type": "code",
   "execution_count": 6,
   "metadata": {},
   "outputs": [
    {
     "name": "stdout",
     "output_type": "stream",
     "text": [
      "Es valido\n"
     ]
    }
   ],
   "source": [
    "mail = input(\"Ingrese el mail: \")\n",
    "if \"@\" in mail:\n",
    "    print(\"Es valido\")\n",
    "else:\n",
    "    print(\"No es valido\")"
   ]
  },
  {
   "cell_type": "markdown",
   "metadata": {},
   "source": [
    "8) Dado un número de dos cifras, diseñe un algoritmo que permita obtener el número invertido. Ejemplo, si se introduce 23 que muestre 32. (Recordar que las cadenas pueden tratarse como listas de caracteres)."
   ]
  },
  {
   "cell_type": "markdown",
   "metadata": {},
   "source": [
    "numero_a_invertir = \"23\"\n",
    "numero_invertido = numero_a_invertir[::-1]"
   ]
  },
  {
   "cell_type": "markdown",
   "metadata": {},
   "source": [
    "9) Crea un programa que pida al usuario dos números y muestre True si ambos son mayores que 10."
   ]
  },
  {
   "cell_type": "code",
   "execution_count": 8,
   "metadata": {},
   "outputs": [
    {
     "name": "stdout",
     "output_type": "stream",
     "text": [
      "True\n"
     ]
    }
   ],
   "source": [
    "num1 = int(input(\"Ingrese el numero 1: \"))\n",
    "num2 = int(input(\"Ingrese el numero 2: \"))\n",
    "if num1>10 and num2>10:\n",
    "    print(True)"
   ]
  },
  {
   "cell_type": "markdown",
   "metadata": {},
   "source": [
    "10) Escribe un programa que verifique si un número ingresado por el usuario es divisible por 3 y por 5."
   ]
  },
  {
   "cell_type": "code",
   "execution_count": 9,
   "metadata": {},
   "outputs": [
    {
     "name": "stdout",
     "output_type": "stream",
     "text": [
      "Es divisible por 3\n"
     ]
    }
   ],
   "source": [
    "num1 = int(input(\"Ingrese el numero: \"))\n",
    "if (num1%3)==0:\n",
    "    print(\"Es divisible por 3\")\n",
    "if (num1%5)==0:\n",
    "    print(\"Es divisible por 5\")"
   ]
  },
  {
   "cell_type": "markdown",
   "metadata": {},
   "source": [
    "11) Utilizando la información del punto 5, preguntar al usuario si posee carnet de conducir, luego verificar si puede conducir un automóvil."
   ]
  },
  {
   "cell_type": "code",
   "execution_count": 10,
   "metadata": {},
   "outputs": [
    {
     "name": "stdout",
     "output_type": "stream",
     "text": [
      "Puede conducir\n"
     ]
    }
   ],
   "source": [
    "if edad>=18:\n",
    "    carnet = input(\"Tiene carnet de conducir (SI/NO): \")\n",
    "    if carnet ==\"SI\":\n",
    "        print(\"Puede conducir\")\n",
    "    elif carnet == \"NO\":\n",
    "        print(\"No puede conducir\")"
   ]
  },
  {
   "cell_type": "markdown",
   "metadata": {},
   "source": [
    "12) Pide al usuario un número y verifica si es positivo y no es mayor que 100."
   ]
  },
  {
   "cell_type": "code",
   "execution_count": 11,
   "metadata": {},
   "outputs": [
    {
     "name": "stdout",
     "output_type": "stream",
     "text": [
      "True\n"
     ]
    }
   ],
   "source": [
    "num1  = int(input(\"Ingrese el numero: \"))\n",
    "if num1>=0 and num1 <=100:\n",
    "    print(True)"
   ]
  },
  {
   "cell_type": "markdown",
   "metadata": {},
   "source": [
    "13) Crear un programa que valide si un número ingresado por el usuario es par y mayor que 20."
   ]
  },
  {
   "cell_type": "code",
   "execution_count": 12,
   "metadata": {},
   "outputs": [
    {
     "name": "stdout",
     "output_type": "stream",
     "text": [
      "True\n"
     ]
    }
   ],
   "source": [
    "num1 = int(input(\"Ingrese numero: \"))\n",
    "if (num1%2)==0 and num1 > 20:\n",
    "    print(True)"
   ]
  },
  {
   "cell_type": "markdown",
   "metadata": {},
   "source": [
    "14) Dada la variable **numero = 5**, realizar la operación necesaria para que número sea igual a 8. Luego imprimir en pantalla el nuevo valor de número y realizar una nueva operación para que el valor de número sea igual a 4 y mostrar en pantalla el nuevo valor."
   ]
  },
  {
   "cell_type": "code",
   "execution_count": 13,
   "metadata": {},
   "outputs": [
    {
     "name": "stdout",
     "output_type": "stream",
     "text": [
      "8\n",
      "4\n"
     ]
    }
   ],
   "source": [
    "numero = 5\n",
    "numero+=3\n",
    "print(numero)\n",
    "numero-=4\n",
    "print(numero)"
   ]
  },
  {
   "cell_type": "markdown",
   "metadata": {},
   "source": [
    "15) Dadas las variables altura = \"10\" y base = 5, calcular el área de un triángulo y mostrar el resultado en pantalla. ¿Por qué el resultado es un error? ¿Cómo lo corregirías?"
   ]
  },
  {
   "cell_type": "code",
   "execution_count": 16,
   "metadata": {},
   "outputs": [
    {
     "ename": "TypeError",
     "evalue": "unsupported operand type(s) for /: 'str' and 'int'",
     "output_type": "error",
     "traceback": [
      "\u001b[1;31m---------------------------------------------------------------------------\u001b[0m",
      "\u001b[1;31mTypeError\u001b[0m                                 Traceback (most recent call last)",
      "\u001b[1;32mc:\\Users\\tinch\\Desktop\\actividades-python\\Operadores - Actividad.ipynb Cell 31\u001b[0m line \u001b[0;36m3\n\u001b[0;32m      <a href='vscode-notebook-cell:/c%3A/Users/tinch/Desktop/actividades-python/Operadores%20-%20Actividad.ipynb#X42sZmlsZQ%3D%3D?line=0'>1</a>\u001b[0m altura \u001b[39m=\u001b[39m \u001b[39m\"\u001b[39m\u001b[39m10\u001b[39m\u001b[39m\"\u001b[39m\n\u001b[0;32m      <a href='vscode-notebook-cell:/c%3A/Users/tinch/Desktop/actividades-python/Operadores%20-%20Actividad.ipynb#X42sZmlsZQ%3D%3D?line=1'>2</a>\u001b[0m base \u001b[39m=\u001b[39m \u001b[39m5\u001b[39m\n\u001b[1;32m----> <a href='vscode-notebook-cell:/c%3A/Users/tinch/Desktop/actividades-python/Operadores%20-%20Actividad.ipynb#X42sZmlsZQ%3D%3D?line=2'>3</a>\u001b[0m area \u001b[39m=\u001b[39m (altura\u001b[39m*\u001b[39;49mbase)\u001b[39m/\u001b[39;49m\u001b[39m2\u001b[39;49m\n\u001b[0;32m      <a href='vscode-notebook-cell:/c%3A/Users/tinch/Desktop/actividades-python/Operadores%20-%20Actividad.ipynb#X42sZmlsZQ%3D%3D?line=3'>4</a>\u001b[0m \u001b[39mprint\u001b[39m(area)\n",
      "\u001b[1;31mTypeError\u001b[0m: unsupported operand type(s) for /: 'str' and 'int'"
     ]
    }
   ],
   "source": [
    "altura = \"10\"\n",
    "base = 5\n",
    "area = (altura*base)/2\n",
    "print(area)\n",
    "\"\"\"El resultado es un error porque altura es un dato de tipo string y base es un dato de tipo int.\n",
    "Para corregir el error, convertiria la altura en un numero entero (int(altura))\"\"\""
   ]
  },
  {
   "cell_type": "markdown",
   "metadata": {},
   "source": [
    "16) Crea un programa que calcule el promedio de tres calificaciones ingresadas por el usuario, y comprobar si el alumno aprobó o no (aprueba con nota mayor a 6)."
   ]
  },
  {
   "cell_type": "code",
   "execution_count": 17,
   "metadata": {},
   "outputs": [
    {
     "name": "stdout",
     "output_type": "stream",
     "text": [
      "Desaprobo\n"
     ]
    }
   ],
   "source": [
    "calificacion1 = float(input(\"Ingresa la primera calificacion: \"))\n",
    "calificacion2 = float(input(\"Ingrese la segunda calificacion: \"))\n",
    "calificacion3 = float(input(\"Ingrese la tercera calificacion: \"))\n",
    "promedio = (calificacion1 + calificacion2 + calificacion3)/3\n",
    "if promedio>6:\n",
    "    print(\"Aprobo\")\n",
    "else:\n",
    "    print(\"Desaprobo\")"
   ]
  },
  {
   "cell_type": "markdown",
   "metadata": {},
   "source": [
    "17) Pide al usuario su edad y calcula cuántos días, horas y minutos ha vivido aproximadamente (asumiendo 365 días por año)."
   ]
  },
  {
   "cell_type": "code",
   "execution_count": 18,
   "metadata": {},
   "outputs": [],
   "source": [
    "edad = int(input(\"Ingrese edad: \"))\n",
    "dias = edad*365\n",
    "horas = edad*8760\n",
    "minutos = edad*525600"
   ]
  },
  {
   "cell_type": "markdown",
   "metadata": {},
   "source": [
    "18) Crea un programa que verifique si un número ingresado por el usuario es múltiplo de 4 y de 6 al mismo tiempo."
   ]
  },
  {
   "cell_type": "code",
   "execution_count": 19,
   "metadata": {},
   "outputs": [
    {
     "name": "stdout",
     "output_type": "stream",
     "text": [
      "Es multiplo de 4 y 6\n"
     ]
    }
   ],
   "source": [
    "num1=int(input(\"Ingrese un numero: \"))\n",
    "if (num1%4)==0 and (num1%6)==0:\n",
    "    print(\"Es multiplo de 4 y 6\")\n"
   ]
  },
  {
   "cell_type": "markdown",
   "metadata": {},
   "source": [
    "19) "
   ]
  }
 ],
 "metadata": {
  "kernelspec": {
   "display_name": "Python 3",
   "language": "python",
   "name": "python3"
  },
  "language_info": {
   "codemirror_mode": {
    "name": "ipython",
    "version": 3
   },
   "file_extension": ".py",
   "mimetype": "text/x-python",
   "name": "python",
   "nbconvert_exporter": "python",
   "pygments_lexer": "ipython3",
   "version": "3.11.4"
  }
 },
 "nbformat": 4,
 "nbformat_minor": 2
}
